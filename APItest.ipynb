{
 "cells": [
  {
   "cell_type": "code",
   "execution_count": null,
   "id": "17a11422",
   "metadata": {
    "colab": {
     "base_uri": "https://localhost:8080/"
    },
    "id": "17a11422",
    "outputId": "ef6e4112-c684-41fd-c604-6637085c94be"
   },
   "outputs": [],
   "source": [
    "# !pip -q install flask\n",
    "# !pip -q install flask_restful\n",
    "# !pip -q install tensorflow\n",
    "# !pip -q install flask-ngrok\n",
    "# !pip -q install pyngrok==4.1.1\n",
    "# !ngrok authtoken 2EdmM1qZZJUGa5dDtZrPqQPjh9I_7QHSq7zGBcDLhkzHqDynv"
   ]
  },
  {
   "cell_type": "code",
   "execution_count": 1,
   "id": "79385c81",
   "metadata": {
    "colab": {
     "base_uri": "https://localhost:8080/"
    },
    "id": "79385c81",
    "outputId": "886fa662-a606-49e0-8839-b4895d9bcda5"
   },
   "outputs": [
    {
     "name": "stdout",
     "output_type": "stream",
     "text": [
      "2.9.1\n"
     ]
    }
   ],
   "source": [
    "# import tensorflow as tf\n",
    "# print(tf.__version__)"
   ]
  },
  {
   "cell_type": "code",
   "execution_count": 1,
   "id": "3be132c8",
   "metadata": {
    "colab": {
     "base_uri": "https://localhost:8080/"
    },
    "id": "3be132c8",
    "outputId": "92a1c0ec-ee22-4a0a-898e-9a59b7ebac21"
   },
   "outputs": [],
   "source": [
    "from flask import Flask, jsonify\n",
    "from flask_restful import Api, Resource, reqparse\n",
    "import pickle\n",
    "import numpy as np\n",
    "import json\n",
    "import tensorflow as tf\n",
    "# from flask_ngrok import run_with_ngrok"
   ]
  },
  {
   "cell_type": "code",
   "execution_count": 2,
   "id": "bc519a07",
   "metadata": {},
   "outputs": [
    {
     "name": "stderr",
     "output_type": "stream",
     "text": [
      "2022-09-14 17:40:16.275105: I tensorflow/core/platform/cpu_feature_guard.cc:193] This TensorFlow binary is optimized with oneAPI Deep Neural Network Library (oneDNN) to use the following CPU instructions in performance-critical operations:  AVX2 FMA\n",
      "To enable them in other operations, rebuild TensorFlow with the appropriate compiler flags.\n"
     ]
    },
    {
     "name": "stdout",
     "output_type": "stream",
     "text": [
      "Model: \"wide_deep_model_2\"\n",
      "_________________________________________________________________\n",
      " Layer (type)                Output Shape              Param #   \n",
      "=================================================================\n",
      " linear_model_2 (LinearModel  multiple                 22        \n",
      " )                                                               \n",
      "                                                                 \n",
      " sequential_2 (Sequential)   (None, 8)                 168443    \n",
      "                                                                 \n",
      "=================================================================\n",
      "Total params: 168,465\n",
      "Trainable params: 168,465\n",
      "Non-trainable params: 0\n",
      "_________________________________________________________________\n"
     ]
    }
   ],
   "source": [
    "usemodel = tf.keras.models.load_model('model_flask')\n",
    "usemodel.summary()"
   ]
  },
  {
   "cell_type": "code",
   "execution_count": 4,
   "id": "fcdd580a",
   "metadata": {},
   "outputs": [
    {
     "name": "stdout",
     "output_type": "stream",
     "text": [
      " * Serving Flask app '__main__'\n",
      " * Debug mode: on\n"
     ]
    },
    {
     "name": "stderr",
     "output_type": "stream",
     "text": [
      "\u001b[31m\u001b[1mWARNING: This is a development server. Do not use it in a production deployment. Use a production WSGI server instead.\u001b[0m\n",
      " * Running on http://127.0.0.1:8080\n",
      "\u001b[33mPress CTRL+C to quit\u001b[0m\n",
      "127.0.0.1 - - [14/Sep/2022 17:40:59] \"\u001b[33mGET / HTTP/1.1\u001b[0m\" 404 -\n",
      "127.0.0.1 - - [14/Sep/2022 17:40:59] \"\u001b[33mGET /favicon.ico HTTP/1.1\u001b[0m\" 404 -\n",
      "127.0.0.1 - - [14/Sep/2022 17:41:03] \"\u001b[33mGET / HTTP/1.1\u001b[0m\" 404 -\n",
      "127.0.0.1 - - [14/Sep/2022 17:41:14] \"\u001b[33mGET / HTTP/1.1\u001b[0m\" 404 -\n",
      "127.0.0.1 - - [14/Sep/2022 17:42:53] \"\u001b[31m\u001b[1mGET /iris HTTP/1.1\u001b[0m\" 405 -\n"
     ]
    },
    {
     "ename": "",
     "evalue": "",
     "output_type": "error",
     "traceback": [
      "The Kernel crashed while executing code in the the current cell or a previous cell. Please review the code in the cell(s) to identify a possible cause of the failure. Click <a href='https://aka.ms/vscodeJupyterKernelCrash'>here</a> for more info. View Jupyter <a href='command:jupyter.viewOutput'>log</a> for further details."
     ]
    }
   ],
   "source": [
    "\n",
    "# app = Flask(__name__)\n",
    "# api = Api(app)\n",
    "# # run_with_ngrok(app)   \n",
    "\n",
    "# # Create parser for the payload data\n",
    "# parser = reqparse.RequestParser()\n",
    "# parser.add_argument('data')\n",
    "\n",
    "# # Define how the api will respond to the post requests\n",
    "# class IrisClassifier(Resource):\n",
    "#     def post(self):\n",
    "#         args = parser.parse_args()\n",
    "#         X = np.array(json.loads(args[\"data\"]))\n",
    "#         prediction = model.predict(X)\n",
    "#         return jsonify(prediction.tolist())\n",
    "\n",
    "# api.add_resource(IrisClassifier, \"/iris\")\n",
    "\n",
    "# if __name__ == \"__main__\":\n",
    "#     # Load model\n",
    "# #     with open('model_flask', 'rb') as f:\n",
    "#     model = usemodel\n",
    "\n",
    "#     app.run(debug=True, port=8080, use_reloader=False)"
   ]
  },
  {
   "cell_type": "code",
   "execution_count": 16,
   "id": "1229078f",
   "metadata": {},
   "outputs": [
    {
     "name": "stdout",
     "output_type": "stream",
     "text": [
      "[0 2 0 1 2 2 2 0 2 0 1 0 0 0 1 2 2 1 0 1 0 1 2 1 0 2 2 1 0 0 0 1 2 0 2 0 1\n",
      " 1]\n"
     ]
    }
   ],
   "source": [
    "from sklearn.datasets import load_iris\n",
    "from sklearn.model_selection import train_test_split\n",
    "from sklearn.ensemble import RandomForestClassifier\n",
    "import pickle\n",
    "\n",
    "# Load Iris data\n",
    "iris = load_iris()\n",
    "\n",
    "# Split into train and test sets\n",
    "X_train, X_test, y_train, y_test = train_test_split(iris['data'], iris['target'], random_state=12)\n",
    "\n",
    "# Train the model\n",
    "clf = RandomForestClassifier(random_state=12)\n",
    "clf.fit(X_train, y_train)\n",
    "\n",
    "# Make prediction on the test set\n",
    "y_predict = clf.predict(X_test)\n",
    "print(y_predict)\n",
    "\n",
    "# Save model\n",
    "with open('model.pickle', 'wb') as f:\n",
    "    pickle.dump(clf, f)"
   ]
  },
  {
   "cell_type": "code",
   "execution_count": 32,
   "id": "84db978a",
   "metadata": {},
   "outputs": [
    {
     "name": "stdout",
     "output_type": "stream",
     "text": [
      "{'data': '[[6253.0, 27.0, 0.0, 0.0, 0.0, 0.0, 0.0, 0.0, 1.0, 262.8, 0.0, 0.0, 0.0, 0.0, 168.36, 94.44, 0.0, 0.0, 0.0, 0.0, 0.0]]'}\n"
     ]
    }
   ],
   "source": [
    "import numpy as np\n",
    "X_test = np.load(\"x_test.npy\")\n",
    "print({'data': json.dumps(X_test[:1].tolist())})"
   ]
  },
  {
   "cell_type": "code",
   "execution_count": 31,
   "id": "ef416a59",
   "metadata": {
    "id": "ef416a59"
   },
   "outputs": [
    {
     "name": "stdout",
     "output_type": "stream",
     "text": [
      "[[420.51779175 355.50872803 202.2754364  ... 361.09490967 316.12667847\n",
      "  227.46322632]\n",
      " [327.7727356  281.99530029 157.35667419 ... 283.47793579 244.41918945\n",
      "  180.94084167]\n",
      " [622.25164795 447.6875     249.76712036 ... 423.23248291 408.01016235\n",
      "  291.25637817]\n",
      " ...\n",
      " [528.89483643 452.22241211 251.68818665 ... 454.24490356 402.12817383\n",
      "  280.67755127]\n",
      " [431.48510742 362.14111328 203.26927185 ... 344.55828857 301.09228516\n",
      "  229.46841431]\n",
      " [629.72418213 490.51858521 268.33227539 ... 499.13647461 444.60580444\n",
      "  321.45101929]]\n"
     ]
    }
   ],
   "source": [
    "import numpy as np\n",
    "import requests\n",
    "import json\n",
    "\n",
    "X_test = np.load(\"x_test.npy\")\n",
    "# Serialize the data into json and send the request to the model\n",
    "payload = {'data': json.dumps(X_test.tolist())}\n",
    "y_predict = requests.post('http://0.0.0.0:8080/iris', data=payload).json()\n",
    "# y_predict = requests.post('https://orbital-builder-357617.uc.r.appspot.com/iris', data=payload)\n",
    "\n",
    "# Make array from the list\n",
    "y_predict = np.array(y_predict)\n",
    "print(y_predict)"
   ]
  },
  {
   "cell_type": "code",
   "execution_count": 1,
   "id": "73e8fcaf",
   "metadata": {},
   "outputs": [
    {
     "name": "stdout",
     "output_type": "stream",
     "text": [
      "Requirement already satisfied: werkzeug==2.0.3 in /Users/michellesamlisa/.pyenv/versions/3.9.10/lib/python3.9/site-packages (2.0.3)\n",
      "Requirement already satisfied: flask==2.1.2 in /Users/michellesamlisa/.pyenv/versions/3.9.10/lib/python3.9/site-packages (2.1.2)\n",
      "Requirement already satisfied: itsdangerous>=2.0 in /Users/michellesamlisa/.pyenv/versions/3.9.10/lib/python3.9/site-packages (from flask==2.1.2) (2.1.2)\n",
      "Requirement already satisfied: Werkzeug>=2.0 in /Users/michellesamlisa/.pyenv/versions/3.9.10/lib/python3.9/site-packages (from flask==2.1.2) (2.0.3)\n",
      "Requirement already satisfied: click>=8.0 in /Users/michellesamlisa/.pyenv/versions/3.9.10/lib/python3.9/site-packages (from flask==2.1.2) (8.0.3)\n",
      "Requirement already satisfied: importlib-metadata>=3.6.0 in /Users/michellesamlisa/.pyenv/versions/3.9.10/lib/python3.9/site-packages (from flask==2.1.2) (4.12.0)\n",
      "Requirement already satisfied: Jinja2>=3.0 in /Users/michellesamlisa/.pyenv/versions/3.9.10/lib/python3.9/site-packages (from flask==2.1.2) (3.1.2)\n",
      "Requirement already satisfied: zipp>=0.5 in /Users/michellesamlisa/.pyenv/versions/3.9.10/lib/python3.9/site-packages (from importlib-metadata>=3.6.0->flask==2.1.2) (3.8.1)\n",
      "Requirement already satisfied: MarkupSafe>=2.0 in /Users/michellesamlisa/.pyenv/versions/3.9.10/lib/python3.9/site-packages (from Jinja2>=3.0->flask==2.1.2) (2.1.1)\n"
     ]
    }
   ],
   "source": [
    "!pip install werkzeug==2.0.3\n",
    "!pip install flask==2.1.2"
   ]
  },
  {
   "cell_type": "code",
   "execution_count": null,
   "id": "e4a994f3",
   "metadata": {},
   "outputs": [],
   "source": []
  }
 ],
 "metadata": {
  "accelerator": "TPU",
  "colab": {
   "collapsed_sections": [],
   "machine_shape": "hm",
   "provenance": []
  },
  "kernelspec": {
   "display_name": "Python 3.9.10 64-bit ('3.9.10')",
   "language": "python",
   "name": "python3"
  },
  "language_info": {
   "codemirror_mode": {
    "name": "ipython",
    "version": 3
   },
   "file_extension": ".py",
   "mimetype": "text/x-python",
   "name": "python",
   "nbconvert_exporter": "python",
   "pygments_lexer": "ipython3",
   "version": "3.9.10"
  },
  "vscode": {
   "interpreter": {
    "hash": "f4d7341681e7133d75bc8b07ba247e6824ec0ba3fb1035329980ac8b29fd5b46"
   }
  }
 },
 "nbformat": 4,
 "nbformat_minor": 5
}
